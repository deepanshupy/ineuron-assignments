{
 "cells": [
  {
   "cell_type": "markdown",
   "metadata": {},
   "source": [
    "1. In the below elements which of them are values or an expression? eg:- values can be integer or string and expressions will be mathematical operators."
   ]
  },
  {
   "cell_type": "raw",
   "metadata": {},
   "source": [
    "ans.\n",
    "    *         -  EXPRESSION\n",
    "    'hello'   -  VALUE\n",
    "    -87.8     -  VALUE\n",
    "    -         -  EXPRESSION\n",
    "    /         -  EXPRESSION\n",
    "    +\t      -  EXPRESSION\n",
    "    6         -  VALUE"
   ]
  },
  {
   "cell_type": "markdown",
   "metadata": {},
   "source": [
    "2. What is the difference between string and variable?"
   ]
  },
  {
   "cell_type": "raw",
   "metadata": {},
   "source": [
    "ans. A string is a value representing text like 'welcome' while a variable is a name that can refer to any value, it can be a        string, int, float, class, etc."
   ]
  },
  {
   "cell_type": "markdown",
   "metadata": {},
   "source": [
    "3. Describe three different data types."
   ]
  },
  {
   "cell_type": "raw",
   "metadata": {},
   "source": [
    "ans. The three different types of datatype are:\n",
    "        \n",
    "     1) String\n",
    "        In Python, Strings are arrays of bytes representing characters. A string is a collection of one or more characters put           in a single quote, double-quote or triple quote.\n",
    "        eg: 'this is my first assignment'\n",
    "        \n",
    "     2) List\n",
    "        Lists are just like the arrays, declared in other languages which is a ordered collection of data. It is very flexible           as the items in a list do not need to be of the same type.\n",
    "        eg: list1 = ['a', 12 , -23.2 , 'python']\n",
    "        \n",
    "     3) Dictionary\n",
    "        Dictionary in Python is an unordered collection of data values, used to store data values like a map, which unlike other         Data Types that hold only single value as an element, Dictionary holds key:value pair. Key-value is provided in the             dictionary to make it more optimized. Each key-value pair in a Dictionary is separated by a colon :, whereas each key is         separated by a ‘comma’.\n",
    "        eg: Dict1 = {1: 'python', 2: 'ineuron', 3: 'assignment'}"
   ]
  },
  {
   "cell_type": "markdown",
   "metadata": {},
   "source": [
    "4. What is an expression made up of? What do all expressions do?"
   ]
  },
  {
   "cell_type": "raw",
   "metadata": {},
   "source": [
    "ans. An expression is a combination of values, variables, operators, and calls to functions. An expression is a construct made up of variables, operators, and method invocations, which are constructed according to the syntax of the language, that evaluates to a single value. ... As you can see from the other expressions, an expression can return other types of values as well, such as boolean or String ."
   ]
  },
  {
   "cell_type": "markdown",
   "metadata": {},
   "source": [
    "5. This assignment statements, like spam = 10. What is the difference between an expression and a statement?"
   ]
  },
  {
   "cell_type": "raw",
   "metadata": {},
   "source": [
    "ans. Expressions are representations of value. They are different from statement in the fact that statements do something while expressions are representation of value. For example any string is also an expressions since it represents the value of the string as well"
   ]
  },
  {
   "cell_type": "markdown",
   "metadata": {},
   "source": [
    "6. After running the following code, what does the variable bacon contain?\n",
    "   bacon = 22\n",
    "   bacon + 1"
   ]
  },
  {
   "cell_type": "raw",
   "metadata": {},
   "source": [
    "ans. 23"
   ]
  },
  {
   "cell_type": "markdown",
   "metadata": {},
   "source": [
    "7. What should the values of the following two terms be?\n",
    "  'spam' + 'spamspam'\n",
    "  'spam' * 3"
   ]
  },
  {
   "cell_type": "raw",
   "metadata": {},
   "source": [
    "ans. 'spamspamspam'"
   ]
  },
  {
   "cell_type": "markdown",
   "metadata": {},
   "source": [
    "8. Why is eggs a valid variable name while 100 is invalid?"
   ]
  },
  {
   "cell_type": "raw",
   "metadata": {},
   "source": [
    "ans. Because variable names cannot begin with a number 100 begins with 1 which is a number thats why 100 is not a variable while egg begins with e which is a character."
   ]
  },
  {
   "cell_type": "markdown",
   "metadata": {},
   "source": [
    "9. What three functions can be used to get the integer, floating-point number, or string version of a value?"
   ]
  },
  {
   "cell_type": "raw",
   "metadata": {},
   "source": [
    "ans. The three functions are int() , float() , and str( ) functions"
   ]
  },
  {
   "cell_type": "markdown",
   "metadata": {},
   "source": [
    "10. Why does this expression cause an error? How can you fix it?\n",
    "'I have eaten ' + 99 + ' burritos.'"
   ]
  },
  {
   "cell_type": "raw",
   "metadata": {},
   "source": [
    "ans. We cannot add a string data type value to a intiger data type value. we can fix this by converting intiger type value to string by using str() function and then add it to the other strings which shows the following result:\n",
    "<<< 'I have eaten ' + str(99) + ' burritos.'\n",
    "output: 'I have eaten 99 burritos.'"
   ]
  }
 ],
 "metadata": {
  "kernelspec": {
   "display_name": "Python 3",
   "language": "python",
   "name": "python3"
  },
  "language_info": {
   "codemirror_mode": {
    "name": "ipython",
    "version": 3
   },
   "file_extension": ".py",
   "mimetype": "text/x-python",
   "name": "python",
   "nbconvert_exporter": "python",
   "pygments_lexer": "ipython3",
   "version": "3.7.6"
  }
 },
 "nbformat": 4,
 "nbformat_minor": 4
}
